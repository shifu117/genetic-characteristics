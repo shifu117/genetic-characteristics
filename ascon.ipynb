{
  "nbformat": 4,
  "nbformat_minor": 0,
  "metadata": {
    "colab": {
      "provenance": []
    },
    "kernelspec": {
      "name": "python3",
      "display_name": "Python 3"
    },
    "language_info": {
      "name": "python"
    }
  },
  "cells": [
    {
      "cell_type": "markdown",
      "source": [
        "Ascon-128\n",
        "\n",
        "Duplex with double keyed initialization and finalization.\n",
        "\n",
        "320-bit inner permutation.\n",
        "\n",
        "128-bit key, nonce and tag, and 64-bit data block.\n",
        "\n",
        "6 inner rounds, 12 otherwise."
      ],
      "metadata": {
        "id": "P5NLwA2KadrG"
      }
    },
    {
      "cell_type": "markdown",
      "source": [
        "Ascon-p\n",
        "\n",
        "SPN with a round constant addition, substitution layer, and linear layer. "
      ],
      "metadata": {
        "id": "hbsE_UwBbSne"
      }
    },
    {
      "cell_type": "code",
      "source": [
        "def asconp(state, a, b, is_a):\n",
        "    if is_a:\n",
        "        for i in a:\n",
        "            r = i\n",
        "            constant_addition(state, r)\n",
        "            substitution_layer(state)\n",
        "            linear_layer(state)\n",
        "    else: \n",
        "        for i in b:\n",
        "            r = i + a - b\n",
        "            constant_addition(state, r)\n",
        "            substitution_layer(state)\n",
        "            linear_layer(state)\n"
      ],
      "metadata": {
        "id": "uABQwqdYad49"
      },
      "execution_count": 2,
      "outputs": []
    },
    {
      "cell_type": "markdown",
      "source": [
        "f0 = 240\n",
        "\n",
        "e1 = 225\n",
        "\n",
        "d2 = 210\n",
        "\n",
        "c3 = 195\n",
        "\n",
        "b4 = 180\n",
        "\n",
        "a5 = 165\n",
        "\n",
        "96 = 150\n",
        "\n",
        "87 = 135\n",
        "\n",
        "78 = 120\n",
        "\n",
        "69 = 105\n",
        "\n",
        "5a = 90\n",
        "\n",
        "4b = 75"
      ],
      "metadata": {
        "id": "NAT8zIrLdLxv"
      }
    },
    {
      "cell_type": "code",
      "source": [
        "def constant_addition(state, r):\n",
        "    \n",
        "    constant = 240 - (15 * r)\n",
        "\n",
        "    state[2] = xor_64int(state[2], constant)\n",
        "    "
      ],
      "metadata": {
        "id": "-rfOem0Hc_-N"
      },
      "execution_count": 3,
      "outputs": []
    },
    {
      "cell_type": "markdown",
      "source": [
        "Ascon 5-bit S-box\n",
        "\n",
        "| $x$ | 0 | 1 | 2 | 3 | 4 | 5 | 6 | 7 | 8 | 9 | a | b | c | d | e | f | 10 | 11 | 12 | 13 | 14 | 15 | 16 | 17 | 18 | 19 | 1a | 1b | 1c | 1d | 1e | 1f |\n",
        "| --- | --- | --- | --- | --- | --- | --- | --- | --- | --- | --- | --- | --- | --- | --- | --- | --- | --- | --- | --- | --- | --- | --- | --- | --- | --- | --- | --- | --- | --- | --- | --- | --- |\n",
        "| $S(x)$ | 4 | b | 1f | 14 | 1a | 15 | 9 | 2 | 1b | 5 | 8 | 12 | 1d | 3 | 6 | 1c | 1e | 13 | 7 | e | 0 | d | 11 | 18 | 10 | c | 1 | 19 | 16 | a | f | 17 |\n",
        "\n",
        "$x_{0}$ MSB"
      ],
      "metadata": {
        "id": "a-zsWBYHg5Hs"
      }
    },
    {
      "cell_type": "code",
      "source": [
        "def substitution_layer(state):\n",
        "    bitstate = []\n",
        "\n",
        "    for i in 5:\n",
        "        bitstate.append(word_to_bits(state[i]))\n",
        "\n",
        "    for i in 64:\n",
        "        #x4 lsb\n",
        "        input = bitstate[i][4] + (bitstate[i][3] * 2) + (bitstate[i][2] * 4) + (bitstate[i][1] * 8) + (bitstate[i][0] * 16)\n",
        "\n",
        "        output = sbox(input)\n",
        "\n",
        "        bitstate[i][4] = output % 2\n",
        "        output = output // 2\n",
        "\n",
        "        bitstate[i][3] = output % 2\n",
        "        output = output // 2\n",
        "\n",
        "        bitstate[i][2] = output % 2\n",
        "        output = output // 2\n",
        "\n",
        "        bitstate[i][1] = output % 2\n",
        "        output = output // 2\n",
        "\n",
        "        bitstate[i][0] = output % 2\n",
        "        output = output // 2\n",
        "\n",
        "    for i in 5:\n",
        "        state[i] = bits_to_int(bitstate[i])\n",
        "        "
      ],
      "metadata": {
        "id": "K74tmqPpivMd"
      },
      "execution_count": 5,
      "outputs": []
    },
    {
      "cell_type": "markdown",
      "source": [
        "$x_{i} ← ∑_i(x_i)$\n",
        "\n",
        "$x_{0} ← ∑_0(x_0) = x_0 ⊕ (x_0 >>> 19) \\oplus (x_0 >>> 28)$\n",
        "\n",
        "$... = x_1 ⊕ (x_1 >>> 61) \\oplus (x_1 >>> 39)$\n",
        "\n",
        "$... = x_2 ⊕ (x_2 >>> 1) \\oplus (x_2 >>> 6)$\n",
        "\n",
        "$... = x_3 ⊕ (x_3 >>> 10) \\oplus (x_3 >>> 17)$\n",
        "\n",
        "$... = x_4 ⊕ (x_4 >>> 7) \\oplus (x_4 >>> 41)$\n"
      ],
      "metadata": {
        "id": "6Br5flFJlX54"
      }
    },
    {
      "cell_type": "code",
      "source": [
        "def linear_layer(state):\n",
        "\n",
        "    tmp = xor_64int(state[0], right_circular_shift(state[0], 19))\n",
        "    tmp = xor_64int(tmp, right_circular_shift(state[0], 28))\n",
        "    state[0] = tmp\n",
        "\n",
        "    tmp = xor_64int(state[1], right_circular_shift(state[1], 61))\n",
        "    tmp = xor_64int(tmp, right_circular_shift(state[1], 39))\n",
        "    state[1] = tmp\n",
        "\n",
        "    tmp = xor_64int(state[2], right_circular_shift(state[2], 1))\n",
        "    tmp = xor_64int(tmp, right_circular_shift(state[2], 6))\n",
        "    state[2] = tmp\n",
        "\n",
        "    tmp = xor_64int(state[3], right_circular_shift(state[3], 10))\n",
        "    tmp = xor_64int(tmp, right_circular_shift(state[3], 17))\n",
        "    state[3] = tmp\n",
        "\n",
        "    tmp = xor_64int(state[4], right_circular_shift(state[4], 7))\n",
        "    tmp = xor_64int(tmp, right_circular_shift(state[4], 41))\n",
        "    state[4] = tmp"
      ],
      "metadata": {
        "id": "sqeIymYPmj4J"
      },
      "execution_count": 6,
      "outputs": []
    }
  ]
}